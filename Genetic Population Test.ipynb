{
 "cells": [
  {
   "cell_type": "code",
   "execution_count": 1,
   "metadata": {
    "collapsed": true
   },
   "outputs": [],
   "source": [
    "import genetic\n",
    "from genetic.genes import GeneGroup, Specie, Gene\n",
    "from genetic.mutation import recessive\n",
    "from genetic.population import Population\n",
    "from genetic.selectors import simpleSplit\n",
    "from genetic.cross_over import randomShuffle\n",
    "\n",
    "from numpy import random"
   ]
  },
  {
   "cell_type": "code",
   "execution_count": 2,
   "metadata": {},
   "outputs": [],
   "source": [
    "random.seed(0)"
   ]
  },
  {
   "cell_type": "code",
   "execution_count": 3,
   "metadata": {
    "collapsed": true
   },
   "outputs": [],
   "source": [
    "PURPLE = '\\033[95m'\n",
    "CYAN = '\\033[96m'\n",
    "DARKCYAN = '\\033[36m'\n",
    "BLUE = '\\033[94m'\n",
    "GREEN = '\\033[92m'\n",
    "YELLOW = '\\033[93m'\n",
    "RED = '\\033[91m'\n",
    "BOLD = '\\033[1m'\n",
    "UNDERLINE = '\\033[4m'\n",
    "END = '\\033[0m'"
   ]
  },
  {
   "cell_type": "code",
   "execution_count": 4,
   "metadata": {
    "collapsed": true
   },
   "outputs": [],
   "source": [
    "W = 119\n",
    "A = 97\n",
    "S = 115\n",
    "D = 100\n",
    "\n",
    "TRAINING_EPOCHS = 100\n",
    "NUMBER_OF_SPECIES = 5\n",
    "GENES_PER_SPECIE = 0\n",
    "GROUPS_PER_SPECIE = 4"
   ]
  },
  {
   "cell_type": "code",
   "execution_count": 5,
   "metadata": {
    "collapsed": true
   },
   "outputs": [],
   "source": [
    "POSSIBLE_GROUPS = [\n",
    "    GeneGroup(\n",
    "        [W, W],\n",
    "        [A, A],\n",
    "        [S, S],\n",
    "        [D, D],\n",
    "\n",
    "        [W, D],\n",
    "        [W, A],\n",
    "        [S, D],\n",
    "        [S, A],\n",
    "        name=\"Actions\",\n",
    "        maxGenes=3\n",
    "    ),\n",
    "    GeneGroup(\n",
    "        \"Front\",\n",
    "        \"Back\",\n",
    "        \"Right\",\n",
    "        \"Left\",\n",
    "        name=\"Sensors\",\n",
    "        maxGenes=3\n",
    "    )\n",
    "]\n",
    "\n",
    "POSSIBLE_GENES = []\n",
    "\n",
    "defaultSpecies = Specie(POSSIBLE_GROUPS[0], POSSIBLE_GROUPS[1], maxGroups=2)"
   ]
  },
  {
   "cell_type": "code",
   "execution_count": 6,
   "metadata": {
    "scrolled": true
   },
   "outputs": [],
   "source": [
    "def runCode():\n",
    "    newPopulation = Population()\n",
    "\n",
    "    newPopulation.generatePopulationFromSpecie(defaultSpecies, 10)\n",
    "\n",
    "    #print(BOLD + GREEN + \"Initial Population\" + END + END)\n",
    "    #print(newPopulation)\n",
    "\n",
    "    for epoch in range(TRAINING_EPOCHS):\n",
    "        #print((BOLD + GREEN + \"\\nEpoch: {}\" + END + END).format(epoch))\n",
    "\n",
    "        newPopulation.calcFitness(genetic.FITNESS_GROUP_BASED, {\"Actions\" : Gene([W, W]), \"Sensors\" : Gene(\"Front\")})\n",
    "        oldPopulation, newPopulation = newPopulation.filterPopulation(simpleSplit)\n",
    "        toCreate = len(oldPopulation) - len(newPopulation)\n",
    "        for _ in range(toCreate):\n",
    "            father, mother = oldPopulation.selectParents(simpleSplit)\n",
    "            child = newPopulation.crossOver(father, mother, randomShuffle)\n",
    "            child.mutate(15, recessive)\n",
    "            child.epoch = epoch\n",
    "\n",
    "            newPopulation += child\n",
    "\n",
    "        '''print(\"New Population: \", newPopulation)\n",
    "        print(\n",
    "            (BOLD + BLUE + \"Best: {}\" + END + END).format(newPopulation.best)\n",
    "        )'''\n",
    "\n",
    "        if newPopulation.best.fitness == 6:\n",
    "            return newPopulation.best"
   ]
  },
  {
   "cell_type": "code",
   "execution_count": 15,
   "metadata": {
    "scrolled": true
   },
   "outputs": [
    {
     "data": {
      "text/plain": [
       "\n",
       "\tGeneGroup:  Genes([\n",
       "\tGene(30), \n",
       "\tGene(50), \n",
       "\tGene(10), \n",
       "\tGene(40)]) Groups(No Groups)"
      ]
     },
     "execution_count": 15,
     "metadata": {},
     "output_type": "execute_result"
    }
   ],
   "source": [
    "GeneGroup(30, 50) + Specie(10,40)"
   ]
  },
  {
   "cell_type": "code",
   "execution_count": null,
   "metadata": {
    "collapsed": true
   },
   "outputs": [],
   "source": []
  }
 ],
 "metadata": {
  "kernelspec": {
   "display_name": "Python 3",
   "language": "python",
   "name": "python3"
  },
  "language_info": {
   "codemirror_mode": {
    "name": "ipython",
    "version": 3
   },
   "file_extension": ".py",
   "mimetype": "text/x-python",
   "name": "python",
   "nbconvert_exporter": "python",
   "pygments_lexer": "ipython3",
   "version": "3.6.1"
  }
 },
 "nbformat": 4,
 "nbformat_minor": 2
}
