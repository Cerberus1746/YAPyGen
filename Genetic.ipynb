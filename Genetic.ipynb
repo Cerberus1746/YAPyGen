{
 "cells": [
  {
   "cell_type": "code",
   "execution_count": 1,
   "metadata": {
    "collapsed": true
   },
   "outputs": [],
   "source": [
    "import genetic\n",
    "from genetic import utils, error_handling\n",
    "import copy"
   ]
  },
  {
   "cell_type": "code",
   "execution_count": 2,
   "metadata": {
    "collapsed": true
   },
   "outputs": [],
   "source": [
    "genetic.random.seed(0)"
   ]
  },
  {
   "cell_type": "code",
   "execution_count": 3,
   "metadata": {
    "collapsed": true
   },
   "outputs": [],
   "source": [
    "class Gene:\n",
    "    recessive = False\n",
    "    mutable = False\n",
    "    groups = []\n",
    "    value = None\n",
    "\n",
    "    def __init__(self, value, mutable = False):\n",
    "        self.mutable = mutable\n",
    "        self.value = value\n",
    "\n",
    "    def __add__(self, other):\n",
    "        if type(other) == type(self):\n",
    "            return GeneGroup(self, other)\n",
    "        elif type(other) == GeneGroup:\n",
    "            return other + self\n",
    "\n",
    "    def __repr__(self):\n",
    "        return \"Gene(%s)\" % str(self.value)"
   ]
  },
  {
   "cell_type": "code",
   "execution_count": 4,
   "metadata": {
    "collapsed": true
   },
   "outputs": [],
   "source": [
    "class DNA:\n",
    "    def __init__(self):\n",
    "        self.geneGroups = []\n",
    "        self.genes = []\n",
    "        self.maxGenes = False\n",
    "\n",
    "        self._groups = {}\n",
    "        self._index = -1\n",
    "\n",
    "    def __iter__(self):\n",
    "        return self\n",
    "\n",
    "    def __next__(self):\n",
    "        self._index += 1\n",
    "        if self._index > len(self) - 1:\n",
    "            raise StopIteration\n",
    "        return self.values[self._index]\n",
    "\n",
    "    def __len__(self):\n",
    "        return len(self.genes)\n",
    "\n",
    "    def __getitem__(self, name):\n",
    "        if type(name) == str:\n",
    "            if name in self._groups:\n",
    "                return self._groups[name]\n",
    "            raise KeyError(\"Group not found\")\n",
    "        else:\n",
    "            raise AttributeError(\"Object only accepts string as index\")\n",
    "    \n",
    "    def __setitem__(self, name, value):\n",
    "        if type(name) == str:\n",
    "            self._groups[name] = value\n",
    "        else:\n",
    "            raise AttributeError(\"Object only accepts string as a key\")\n",
    "    \n",
    "    def __add__(self, other):\n",
    "        if type(other) == Gene:\n",
    "            return copy.deepcopy(self.newGene(other))\n",
    "        elif type(other) == type(self):\n",
    "            self.genes += other.genes\n",
    "            return self\n",
    "        else:\n",
    "            raise NotImplemented\n",
    "    \n",
    "    def __iadd__(self, other):\n",
    "        if type(other) == GeneGroup:\n",
    "            self.genes += other.genes\n",
    "            return self\n",
    "        else:\n",
    "            raise NotImplemented\n",
    "\n",
    "    def _chooseRandomGene(self, genesList, numberOfGenes = 0 , numberOfGroups = 0):\n",
    "        if numberOfGenes == 0 and numberOfGroups == 0:\n",
    "            raise AttributeError(\"numberOfGenes or numberOfGroups can be zero, not both\")\n",
    "        \n",
    "        totalGenes = []\n",
    "        if numberOfGenes > 0:\n",
    "            totalGenes += [genes for genes in genesList if type(genes) == Gene]\n",
    "        if numberOfGroups > 0:\n",
    "            totalGenes += [genes for genes in genesList if type(genes) == GeneGroup]\n",
    "\n",
    "        return utils.globalChoice(\n",
    "            totalGenes,\n",
    "            numberOfItemsToGet = numberOfGenes,\n",
    "            allowRepeats = True\n",
    "        )\n",
    "\n",
    "    def get(self, name, defaultReturn = False):\n",
    "        if name in self._groups:\n",
    "            return self._groups[name]\n",
    "        return defaultReturn\n",
    "\n",
    "    def setGenes(self, *genes):\n",
    "        if len(genes) > 0:\n",
    "            self.genes = []\n",
    "            for gene in genes:\n",
    "                self.newGene(gene)\n",
    "        else:\n",
    "            raise error_handling.Genes(\"Gene List can't be empty\")\n",
    "\n",
    "    def generateGeneSequence(self, possibleGenes, maxGenes=False):\n",
    "        if maxGenes:\n",
    "            self.maxGenes = maxGenes\n",
    "        if self.maxGenes:\n",
    "            self.genes = self._chooseRandomGene(genesList = possibleGenes, numberOfGenes = self.maxGenes)\n",
    "        for genes in possibleGenes:\n",
    "            if type(genes) == GeneGroup:\n",
    "                genes.generateGeneSequence(genes.genes)\n",
    "                self.newGene(genes)\n",
    "\n",
    "    def newGene(self, *values, mutable = False):\n",
    "        if len(values) == 0:\n",
    "            raise error_handling.Genes(\"Gene List can't be empty\")\n",
    "        for newValues in values:\n",
    "            newValues = copy.deepcopy(newValues)\n",
    "            if type(newValues) == GeneGroup:\n",
    "                if not self.get(newValues.name, False):\n",
    "                    if self not in newValues.geneGroups:\n",
    "                        newValues.geneGroups.append(self)\n",
    "\n",
    "                    self[newValues.name] = newValues\n",
    "                    self.genes.append(newValues)\n",
    "                else:\n",
    "                    self[newValues.name] += newValues\n",
    "\n",
    "\n",
    "            elif type(newValues) == Gene:\n",
    "                if self not in newValues.groups:\n",
    "                    newValues.groups.append(self)\n",
    "                self.genes.append(newValues)\n",
    "\n",
    "            else:\n",
    "                newValues = Gene(newValues)\n",
    "                self.genes.append(newValues)\n",
    "        \n",
    "        return self"
   ]
  },
  {
   "cell_type": "code",
   "execution_count": 5,
   "metadata": {
    "collapsed": true
   },
   "outputs": [],
   "source": [
    "class GeneGroup(DNA):\n",
    "    def __init__(self, *values, name=\"\", mutable = False, maxGenes = False):\n",
    "        DNA.__init__(self)\n",
    "\n",
    "        self.name = name\n",
    "        self.mutable = mutable\n",
    "        self.maxGenes = maxGenes\n",
    "\n",
    "        if len(values) > 0:\n",
    "            self.setGenes(*values)\n",
    "\n",
    "    def __repr__(self):\n",
    "        return \"Group: %s(%s)\" % (self.name, self.genes)"
   ]
  },
  {
   "cell_type": "code",
   "execution_count": 6,
   "metadata": {},
   "outputs": [
    {
     "name": "stdout",
     "output_type": "stream",
     "text": [
      "Group: ([Gene(8), Gene(9), Gene(30), Gene(50)])\n"
     ]
    }
   ],
   "source": [
    "groupA = GeneGroup(8, 9)\n",
    "groupB = GeneGroup(30, 50)\n",
    "\n",
    "print(groupA + groupB)"
   ]
  },
  {
   "cell_type": "code",
   "execution_count": 7,
   "metadata": {
    "collapsed": true
   },
   "outputs": [],
   "source": [
    "class Specie(DNA):\n",
    "    fitness = genetic.NINF\n",
    "    age = 0\n",
    "    primordial = True\n",
    "    child = False\n",
    "    conditionsMet = False\n",
    "    parents = ()\n",
    "\n",
    "    def __init__(self, *genes, name = \"\"):\n",
    "        DNA.__init__(self)\n",
    "        self.name = name\n",
    "\n",
    "        if len(genes) > 0:\n",
    "            self.setGenes(*genes)\n",
    "\n",
    "    def __repr__(self):\n",
    "        return \"Specie: %s(%s)\" % (self.name, self.genes)\n",
    "\n",
    "    def createName(self, namesOptions):\n",
    "        self.speciesName = \"%s.%d\" % (genetic.random.choice(namesOptions), genetic.random.randint(1000))\n",
    "        return self.speciesName"
   ]
  },
  {
   "cell_type": "code",
   "execution_count": 13,
   "metadata": {},
   "outputs": [
    {
     "name": "stdout",
     "output_type": "stream",
     "text": [
      "Specie: Mafagafo([Gene(10), Gene(40), Gene(80), Gene(30), Gene(10)])\n"
     ]
    }
   ],
   "source": [
    "SpecieA = Specie(10, 40, 80, name=\"Mafagafo\")\n",
    "SpecieB = Specie(30, 10, name=\"WeirdStuff\")\n",
    "\n",
    "print(SpecieA + SpecieB)"
   ]
  },
  {
   "cell_type": "code",
   "execution_count": 9,
   "metadata": {
    "collapsed": true
   },
   "outputs": [],
   "source": [
    "class Population(DNA):\n",
    "    _allPopulation = []\n",
    "\n",
    "    historic = []\n",
    "    defaultSpeciesNumber = False\n",
    "    better = Specie()\n",
    "    \n",
    "    def __init__(self, defaultSpeciesCount = False, specieObject = Specie):\n",
    "        DNA.__init__(self)\n",
    "        self._allPopulation = []\n",
    "        self.specieObject = specieObject\n",
    "\n",
    "        self.historic = []\n",
    "        self.defaultSpeciesNumber = defaultSpeciesCount\n",
    "\n",
    "    def __getitem__(self, name):\n",
    "        if type(name) == int:\n",
    "            return self._allPopulation[name]\n",
    "        elif type(name) == str:\n",
    "            return DNA.__getitem__(self, name)\n",
    "        else:\n",
    "            raise AttributeError(\"Use int to get specie from population or string to get avaiable GeneGroup\")\n",
    "\n",
    "    def __setitem__(self, name, value):\n",
    "        if type(name) == int:\n",
    "            self._allPopulation[name] = value\n",
    "        elif type(name) == str:\n",
    "            DNA.__setitem__(self, name, value)\n",
    "        else:\n",
    "            raise AttributeError(\"Use int to define specie from population or string to define value of GeneGroup\")\n",
    "\n",
    "    def __iter__(self):\n",
    "        return self\n",
    "\n",
    "    def __repr__(self):\n",
    "        return \"Population: %s\" % self._allPopulation\n",
    "\n",
    "    def __next__(self):\n",
    "        self._index += 1\n",
    "        if self._index > len(self._allPopulation) - 1:\n",
    "            raise StopIteration\n",
    "        return self._allPopulation[self._index]\n",
    "\n",
    "    def addToPopulation(newSpecie):\n",
    "        if newSpecie.maxGenes:\n",
    "            if len(newSpecie) < newSpecie.maxGenes\n",
    "                newSpecie.generateGeneSequence(newSpecie.genes, maxGenes = genesPerSpecie, allowRepeat = True)\n",
    "            elif len(newSpecie) > newSpecie.maxGenes\n",
    "                newSpecie.generateGeneSequence(newSpecie.genes, maxGenes = genesPerSpecie, allowRepeat = False)\n",
    "\n",
    "        self._allPopulation.append(newSpecie)\n",
    "\n",
    "    def generatePopulation(self, numberOfSpecies, genesPerSpecie, useRecessives = True, reset = True):\n",
    "        if reset:\n",
    "            self._allPopulation = []\n",
    "        for newSpecie in range(numberOfSpecies):\n",
    "            newSpecie = self.specieObject()\n",
    "            newSpecie.maxGenes = genesPerSpecie\n",
    "            newSpecie.generateGeneSequence(self.genes, maxGenes = genesPerSpecie)\n",
    "            self._allPopulation.append(newSpecie)"
   ]
  },
  {
   "cell_type": "code",
   "execution_count": 10,
   "metadata": {
    "collapsed": true
   },
   "outputs": [],
   "source": [
    "W = 119\n",
    "A = 97\n",
    "S = 115\n",
    "D = 100\n",
    "\n",
    "possibleGenes = [\n",
    "    GeneGroup(10, 5, 2, 4, name=\"weights\", maxGenes=2),\n",
    "    [W, W],\n",
    "    [A, A],\n",
    "    [S, S],\n",
    "    [D, D],\n",
    "\n",
    "    [W, D],\n",
    "    [W, A],\n",
    "    [S, D],\n",
    "    [S, A]\n",
    "]"
   ]
  },
  {
   "cell_type": "code",
   "execution_count": 11,
   "metadata": {},
   "outputs": [
    {
     "name": "stdout",
     "output_type": "stream",
     "text": [
      "Specie: ([Gene([119, 100]), Gene([119, 97]), Group: weights([Gene(10), Gene(5)])])\n",
      "Specie: ([Gene([100, 100]), Gene([119, 97]), Group: weights([Gene(10), Gene(10)])])\n",
      "Specie: ([Gene([115, 115]), Gene([119, 100]), Group: weights([Gene(10), Gene(10)])])\n",
      "Specie: ([Gene([115, 100]), Gene([119, 119]), Group: weights([Gene(10), Gene(10)])])\n",
      "Specie: ([Gene([119, 119]), Gene([119, 100]), Group: weights([Gene(10), Gene(10)])])\n"
     ]
    }
   ],
   "source": [
    "newPopulation = Population()\n",
    "[newPopulation.newGene(gene) for gene in possibleGenes]\n",
    "newPopulation.generatePopulation(5, 2)\n",
    "for specie in newPopulation:\n",
    "    print(specie)"
   ]
  },
  {
   "cell_type": "code",
   "execution_count": null,
   "metadata": {
    "collapsed": true
   },
   "outputs": [],
   "source": []
  }
 ],
 "metadata": {
  "kernelspec": {
   "display_name": "Python 3",
   "language": "python",
   "name": "python3"
  },
  "language_info": {
   "codemirror_mode": {
    "name": "ipython",
    "version": 3
   },
   "file_extension": ".py",
   "mimetype": "text/x-python",
   "name": "python",
   "nbconvert_exporter": "python",
   "pygments_lexer": "ipython3",
   "version": "3.6.1"
  }
 },
 "nbformat": 4,
 "nbformat_minor": 2
}
